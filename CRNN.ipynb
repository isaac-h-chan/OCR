{
 "cells": [
  {
   "attachments": {},
   "cell_type": "markdown",
   "metadata": {},
   "source": [
    "IMPORT PACKAGES"
   ]
  },
  {
   "cell_type": "code",
   "execution_count": 1,
   "metadata": {},
   "outputs": [],
   "source": [
    "import torch\n",
    "from torch import nn\n",
    "from torchvision import transforms\n",
    "from tqdm.auto import tqdm"
   ]
  },
  {
   "attachments": {},
   "cell_type": "markdown",
   "metadata": {},
   "source": [
    "DEVICE AGNOSTIC CODE"
   ]
  },
  {
   "cell_type": "code",
   "execution_count": 2,
   "metadata": {},
   "outputs": [],
   "source": [
    "device = ''\n",
    "if torch.cuda.is_available():\n",
    "    device = 'cuda'\n",
    "elif torch.backends.mps.is_available():\n",
    "    device = 'mps'\n",
    "else:\n",
    "    device = 'cpu'"
   ]
  },
  {
   "attachments": {},
   "cell_type": "markdown",
   "metadata": {},
   "source": [
    "CREATE THE CRNN MODEL \n",
    "Layers: Convolutional Layers > Bi-directional LSTM Layers > Transcription\n"
   ]
  },
  {
   "cell_type": "code",
   "execution_count": 3,
   "metadata": {},
   "outputs": [],
   "source": [
    "class crnn(nn.Module):\n",
    "    \n",
    "    # GO BACK AND MODIFY THE PARAMS\n",
    "    def __init__(self, inputShape, outputShape):\n",
    "        \n",
    "        super.__init__()\n",
    "        self.layers1 = nn.Sequential(\n",
    "            nn.Conv2d(),\n",
    "            nn.ReLU(),\n",
    "            nn.Conv2d(),\n",
    "            nn.ReLU(),\n",
    "            nn.MaxPool2d(),\n",
    "        )\n",
    "        self.layers2 = nn.Sequential(\n",
    "            nn.Conv2d(),\n",
    "            nn.ReLU(),\n",
    "            nn.Conv2d(),\n",
    "            nn.ReLU(),\n",
    "            nn.MaxPool2d(),\n",
    "        )\n",
    "        super.layers3 = nn.Sequential(\n",
    "            nn.LSTM(),\n",
    "            nn.Linear()\n",
    "        )\n",
    "\n",
    "    \n",
    "    def forward(self, x):\n",
    "        x = self.layers1(x)\n",
    "        x = self.layer2(x)\n",
    "        x = self.layers3(x)\n",
    "        return x"
   ]
  }
 ],
 "metadata": {
  "kernelspec": {
   "display_name": ".venv",
   "language": "python",
   "name": "python3"
  },
  "language_info": {
   "codemirror_mode": {
    "name": "ipython",
    "version": 3
   },
   "file_extension": ".py",
   "mimetype": "text/x-python",
   "name": "python",
   "nbconvert_exporter": "python",
   "pygments_lexer": "ipython3",
   "version": "3.10.9"
  },
  "orig_nbformat": 4,
  "vscode": {
   "interpreter": {
    "hash": "e595abf7a462323a37a489fcab767c67449b953fa3c0cfe5550b30254112c137"
   }
  }
 },
 "nbformat": 4,
 "nbformat_minor": 2
}
